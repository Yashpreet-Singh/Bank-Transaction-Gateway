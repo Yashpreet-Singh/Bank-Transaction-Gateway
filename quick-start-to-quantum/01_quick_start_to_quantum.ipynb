{
  "cells": [
    {
      "cell_type": "markdown",
      "metadata": {
        "id": "view-in-github",
        "colab_type": "text"
      },
      "source": [
        "<a href=\"https://colab.research.google.com/github/Yashpreet-Singh/Bank-Transaction-Gateway/blob/main/quick-start-to-quantum/01_quick_start_to_quantum.ipynb\" target=\"_parent\"><img src=\"https://colab.research.google.com/assets/colab-badge.svg\" alt=\"Open In Colab\"/></a>"
      ]
    },
    {
      "cell_type": "code",
      "execution_count": null,
      "id": "eead95ce",
      "metadata": {
        "id": "eead95ce"
      },
      "outputs": [],
      "source": [
        "# SPDX-License-Identifier: Apache-2.0 AND CC-BY-NC-4.0\n",
        "#\n",
        "# Licensed under the Apache License, Version 2.0 (the \"License\");\n",
        "# you may not use this file except in compliance with the License.\n",
        "# You may obtain a copy of the License at\n",
        "#\n",
        "# http://www.apache.org/licenses/LICENSE-2.0\n",
        "#\n",
        "# Unless required by applicable law or agreed to in writing, software\n",
        "# distributed under the License is distributed on an \"AS IS\" BASIS,\n",
        "# WITHOUT WARRANTIES OR CONDITIONS OF ANY KIND, either express or implied.\n",
        "# See the License for the specific language governing permissions and\n",
        "# limitations under the License."
      ]
    },
    {
      "cell_type": "markdown",
      "id": "287d2b16",
      "metadata": {
        "id": "287d2b16"
      },
      "source": [
        "# Quick Start to Quantum Computing with CUDA-Q\n",
        "# Lab 1 - Start Small: Quantum programming with one qubit"
      ]
    },
    {
      "cell_type": "markdown",
      "id": "9c120e4e",
      "metadata": {
        "id": "9c120e4e"
      },
      "source": [
        "## Overview\n",
        "\n",
        "This lab starts with an introduction to quantum computing by comparing it to classical computation. It specifically defines the concepts of qubits and quantum operations using both visual and mathematical representations. These two concepts are all you need to begin coding. By the end of the lab, you'll have written not just your first, but several quantum programs using CUDA-Q!\n",
        "\n",
        "**What you'll do:**\n",
        "* Define and visualize single-qubit states and operations\n",
        "* Write your first quantum programs\n",
        "* Interpret the results of a quantum program\n",
        "\n",
        "**Terminology you'll use:**\n",
        "* quantum state\n",
        "* probability amplitudes\n",
        "* superposition\n",
        "* kernel\n",
        "* quantum circuit\n",
        "* measurement\n",
        "* sample\n",
        "* quasi-probability distribution\n",
        "* sampling error\n",
        "\n",
        "**CUDA-Q syntax you'll use:**\n",
        "* defining a quantum kernel: `@cudaq.kernel`\n",
        "* qubit initialization: `cudaq.qvector` and `cudaq.qubit`\n",
        "* quantum gates: `x` and `h`\n",
        "* extracting information from a kernel: `get_state`, `sample`\n",
        "* visualization tools: `add_to_bloch_sphere`, `show`, `draw`\n",
        "\n",
        "\n",
        "\n"
      ]
    },
    {
      "cell_type": "markdown",
      "id": "b5046650",
      "metadata": {
        "id": "b5046650"
      },
      "source": [
        "Execute the cells below to load all the necessary packages for this lab."
      ]
    },
    {
      "cell_type": "code",
      "execution_count": null,
      "id": "63383b12",
      "metadata": {
        "id": "63383b12"
      },
      "outputs": [],
      "source": [
        "# Instructions for Google Colab. You can ignore this cell if you have cuda-q set up.\n",
        "# Run this notebook in a CPU runtime\n",
        "# Uncomment the line below and execute the cell to install cuda-q\n",
        "# !pip install cudaq"
      ]
    },
    {
      "cell_type": "markdown",
      "id": "291ba819",
      "metadata": {
        "id": "291ba819"
      },
      "source": [
        "$\\newcommand{\\ket}[1]{|#1\\rangle}$"
      ]
    },
    {
      "cell_type": "code",
      "execution_count": null,
      "id": "111772f8",
      "metadata": {
        "id": "111772f8"
      },
      "outputs": [],
      "source": [
        "# install `qutip` and `ipywidgets` in the current Python kernel. Skip this if they are already installed.\n",
        "# `matplotlib` is required for all visualization tasks.\n",
        "# Make sure to restart your kernel if you execute this!\n",
        "# In a Jupyter notebook, go to the menu bar > Kernel > Restart Kernel.\n",
        "# In VSCode, click on the Restart button in the Jupyter toolbar.\n",
        "\n",
        "# The '\\' before the '>' operator is so that the shell does not misunderstand\n",
        "# the '>' qualifier for the bash pipe operation.\n",
        "\n",
        "import sys\n",
        "\n",
        "try:\n",
        "    import matplotlib.pyplot as plt\n",
        "    import qutip\n",
        "    import ipywidgets as widgets\n",
        "\n",
        "except ImportError:\n",
        "    print(\"Tools not found, installing. Please restart your kernel after this is done.\")\n",
        "    !{sys.executable} -m pip install qutip\\>=5 matplotlib\\>=3.5\n",
        "    !{sys.executable} -m pip install ipywidgets\n",
        "    print(\"\\nNew libraries have been installed. Please restart your kernel!\")"
      ]
    },
    {
      "cell_type": "code",
      "execution_count": null,
      "id": "644b9c82",
      "metadata": {
        "id": "644b9c82"
      },
      "outputs": [],
      "source": [
        "# Necessary packages\n",
        "\n",
        "import cudaq\n",
        "import numpy as np\n",
        "import ipywidgets as widgets\n",
        "from ipywidgets import interact"
      ]
    },
    {
      "cell_type": "markdown",
      "id": "3082d973",
      "metadata": {
        "id": "3082d973"
      },
      "source": [
        "## 1.1 Overview of Quantum Computing\n",
        "\n",
        "Watch [this presentation](http://www.youtube.com/watch?v=gevJ5xU_WUA) to understand quantum computing fundamentals and discover the current challenges in developing practical quantum computers. You'll learn how GPUs and CUDA-Q are essential for both quantum simulation and the development of future accelerated quantum supercomputers. This overview might inspire you to continue learning how to program in CUDA-Q."
      ]
    },
    {
      "cell_type": "markdown",
      "id": "c2fa8e57-2f20-4d1b-a8c1-a8291da83fdc",
      "metadata": {
        "id": "c2fa8e57-2f20-4d1b-a8c1-a8291da83fdc"
      },
      "source": [
        "## 1.2 Define single-qubit states and operations\n",
        "\n",
        "Computation involves storing and manipulating information. What distinguishes quantum computing from classical computing is the way in which information is represented and manipulated. We'll first review how information is represented in classical or digital computing and then contrast this with how information is represented in a quantum program.\n"
      ]
    },
    {
      "cell_type": "markdown",
      "id": "8499ab12",
      "metadata": {
        "id": "8499ab12"
      },
      "source": [
        "### 1.2.1 Classical bits\n",
        "\n",
        "  The basic unit of information in classical computing is a *bit*. A bit stores information by taking on the value (sometimes referred to as a state) of either 0 or 1.  We can use the notation $b=0$ to describe a bit $b$ in the state $0$. One way to visualize this is an arrow (or a unit vector).  If the vector is pointing up, the bit is in the state 0 and if the vector points down, the bit is in the state 1.  Classical computing can change the state of a bit by changing it from a 0 to a 1 or vice versa. This operation is known as a bit-flip, and visually looks like flipping the direction of the vector from up to down or vice versa.\n",
        "\n",
        "<img src=\"https://raw.githubusercontent.com/NVIDIA/cuda-q-academic/main/images/bits.png\" alt=\"vectors representing bits in the state 0 and the state 1\" width=\"200\"/>"
      ]
    },
    {
      "cell_type": "markdown",
      "id": "65e19333",
      "metadata": {
        "id": "65e19333"
      },
      "source": [
        "### 1.2.2 Qubits"
      ]
    },
    {
      "cell_type": "markdown",
      "id": "fe371889",
      "metadata": {
        "id": "fe371889"
      },
      "source": [
        "In quantum computing, instead of bits, information is stored in *qubits*.  While a single bit can only be in one of 2 states at a given time, a single qubit can be in one of infinitely many states! This suggests that we might be able to handle information more efficiently with qubits than we could with bits.\n",
        "\n",
        "There is a catch.  While there are infinitely many quantum states, we can't necessarily access all the information stored in these infinitely many states.  This is due to the uncertainty principle in quantum mechanics. Restriciting our focus on how uncertainty arises in quantum computation, let's look at the general structure of a quantum program. Many quantum programs start with initializing a quantum state, manipulating the state, and then measuring it.  When we measure a qubit, the act of measuring can change the quantum state of the qubit. For example, measuring may collapse the quantum state to of a single qubit to one of two classical states (e.g., 0 or 1). Measurement is how we extract useful information from a qubit. We'll explore this idea later in the notebook.\n",
        "\n",
        "To visualize qubits, we will extend the idea of representing a bit as a unit vector pointing up or down. A qubit, $q$, can be thought of as a unit vector pointing in any direction in 3D.  In other words, we can visualize a qubit as a vector on a sphere. The literature refers to this sphere as the Bloch sphere.  As a generalization of bits, we'll identify the vector pointing up (i.e., in the direction of the positive $z$-axis) with the zero state (see figure below).\n",
        "\n",
        "<img src=\"https://raw.githubusercontent.com/NVIDIA/cuda-q-academic/main/images/Blochsphere0.png\" alt=\"Bloch sphere representation of \\ket{0}\" width=\"200\"/>\n",
        "\n",
        "The zero state is denoted by $\\ket{0}$ and this notation is read as \"ket zero\" or \"zero ket\". The word \"ket\" comes from Dirac notation, which we'll describe in more detail later. The vector pointing down will represent the one state, which is abbreviated as $\\ket{1}$ and referred to as \"ket one\" or \"one ket\".\n",
        "\n",
        "In addition to the $\\ket{0}$  and $\\ket{1}$ states, there are infinitely many other quantum states.  Each of the infinitely many vectors on the Bloch sphere represents a different state.\n",
        "\n",
        "\n",
        "<img src=\"https://raw.githubusercontent.com/NVIDIA/cuda-q-academic/main/images/BlochsphereManyStates.png\" alt=\"Several states represented on the Bloch Sphere\" width=\"200\"/>\n",
        "\n",
        "Execute the code block below to generate a widget that you can interact with to visualize rotating the $\\ket{0}$ state about the $X$, $Y$, and $Z$ axis by various angles. You can control the sliders with your mouse, or type in a value in the box to the right of the slider. For now, do not concern yourself with the code iteself.  We'll explain it in due time. For now, think of it as a preview to CUDA-Q."
      ]
    },
    {
      "cell_type": "code",
      "execution_count": 6,
      "id": "94aa0f1e",
      "metadata": {
        "id": "94aa0f1e",
        "outputId": "590bad82-9bbc-4071-c040-6865b320fe57",
        "colab": {
          "base_uri": "https://localhost:8080/",
          "height": 683,
          "referenced_widgets": [
            "e7ba53b4462b4d42b958636b7b1ca0f8",
            "b2c76d76e32e4ea580cc1ff1659de4af",
            "c0f08ca259614bceb1da65539e9abed2",
            "6c0e2f1bb5a7464bb52862f377fbbb64",
            "352309eb2c0341c8bdbb271c8b245eda",
            "4f3df4498a454fc1b9092e61f1556e13",
            "b98b104d90834f5ca51f431992feebe0",
            "d592c31e6d6140edadd9c4c1c3f144ba",
            "4604229927104754b401010f7d4f99d9",
            "80198fa471434fccb39785d5373cddf7",
            "8c58e46ff308443388eac471cf937630",
            "5c20a619c1aa44808401284501aa876a",
            "8cd3f40a6a0046abb40afa467a80e0f7",
            "07261e47f2f24cb89b2d743a9c4afcd8",
            "f3af20017ba34af9b785cbea22a7a80a",
            "f3d5c8b6c73a4760b8be521c7e4b9bd1"
          ]
        }
      },
      "outputs": [
        {
          "output_type": "display_data",
          "data": {
            "text/plain": [
              "HTML(value='<h3>Rotation of |0> about the X, Y, and Z axis by angles nx*π, ny*π, nz*π, respectively</h3>')"
            ],
            "application/vnd.jupyter.widget-view+json": {
              "version_major": 2,
              "version_minor": 0,
              "model_id": "e7ba53b4462b4d42b958636b7b1ca0f8"
            }
          },
          "metadata": {}
        },
        {
          "output_type": "display_data",
          "data": {
            "text/plain": [
              "interactive(children=(FloatSlider(value=0.0, continuous_update=False, description='nx:', max=2.0, step=0.01), …"
            ],
            "application/vnd.jupyter.widget-view+json": {
              "version_major": 2,
              "version_minor": 0,
              "model_id": "6c0e2f1bb5a7464bb52862f377fbbb64"
            }
          },
          "metadata": {}
        }
      ],
      "source": [
        "# Kernel to initialize a qubit in the zero ket state and rotate it about the x, y, and z axis by given angles\n",
        "@cudaq.kernel\n",
        "def rotation_kernel(angle_x: float, angle_y: float, angle_z: float):\n",
        "    qubit = cudaq.qubit()\n",
        "    rx(angle_x*np.pi, qubit)\n",
        "    ry(angle_y*np.pi, qubit)\n",
        "    rz(angle_z*np.pi, qubit)\n",
        "\n",
        "# Function to update the Bloch sphere plot based on the slider values\n",
        "def update_plot(angle_x, angle_y, angle_z):\n",
        "    state = cudaq.get_state(rotation_kernel, angle_x, angle_y, angle_z)\n",
        "    bloch_sphere = cudaq.add_to_bloch_sphere(state)\n",
        "    cudaq.show(bloch_sphere)\n",
        "\n",
        "# Create interactive sliders for angles\n",
        "slider_x = widgets.FloatSlider(min=0, max=2, step=0.01, value=0, description='nx:', continuous_update=False)\n",
        "slider_y = widgets.FloatSlider(min=0, max=2, step=0.01, value=0, description='ny:', continuous_update=False)\n",
        "slider_z = widgets.FloatSlider(min=0, max=2, step=0.01, value=0, description='nz:', continuous_update=False)\n",
        "\n",
        "# Add a title to the widget\n",
        "title = widgets.HTML(value=\"<h3>Rotation of |0> about the X, Y, and Z axis by angles nx*π, ny*π, nz*π, respectively</h3>\")\n",
        "\n",
        "# Display the title and sliders\n",
        "display(title)\n",
        "interactive_plot = interact(update_plot, angle_x=slider_x, angle_y=slider_y, angle_z=slider_z)\n"
      ]
    },
    {
      "cell_type": "markdown",
      "id": "1b3d71dd",
      "metadata": {
        "id": "1b3d71dd"
      },
      "source": [
        ">**FAQ:** *How does ‘infinitely many states’ with a qubit differ from \"analog computing\"? That is also infinite, no?*  \n",
        "\n",
        ">**Answer** Qubits can demonstrate the quantum properties of superposition, entanglement, and interference. Additionally, in analog computing, the way in which information is extracted from an analog state differs from what happens in quantum computing.  This is due to the way states are measured and the limitations imposted by the uncertainty principle in quantum mechanics.  We'll experiment with measurement and superposition in this notebook. Entanglement and interference are covered in the next notebook.\n",
        "\n",
        "Now that we have a visual representation of a qubit, let's establish some notation that will allow us to describe states and carry out quantum operations on these states.  We've already introduced the states $\\ket{0}$ and $\\ket{1}$.  We can identify $\\ket{0}$ with the vector $\\begin{pmatrix} 1 \\\\ 0\\end{pmatrix}$ and $\\ket{1}$ with the vector $\\begin{pmatrix} 0\\\\ 1\\end{pmatrix}$.  Then, for the purposes of this tutorial, any other quantum state $\\ket{\\psi}$ on the Bloch sphere can be written as a linear combination of $\\ket{0}$ and $\\ket{1}$ .  In other words, quantum states take the form\n",
        "\n",
        "$$\n",
        "\\ket{\\psi} = \\alpha\\ket{0}+\\beta\\ket{1},\n",
        "$$\n",
        "\n",
        "where $\\alpha$ and $\\beta$ are complex numbers satisfying the equation $|\\alpha|^2+|\\beta|^2 = 1$. The coefficients $\\alpha$ and $\\beta$ are referred to as *probability amplitudes*, or *amplitudes* for short. The restriction that $|\\alpha|^2+|\\beta|^2 = 1$ ensures that the state is on the Bloch sphere.\n",
        "\n",
        "Let's see how the expression $\n",
        "\\ket{\\psi} = \\alpha\\ket{0}+\\beta\\ket{1},\n",
        "$ maps to the Bloch sphere. First, we rewrite the coefficients $\\alpha$ and $\\beta$ in the following manner:\n",
        "\n",
        "$$\n",
        "\\alpha = \\cos(\\frac{\\theta}{2})\\text{ and }\\beta = \\sin(\\frac{\\theta}{2})e^{i\\varphi},\n",
        "$$\n",
        "where $\\theta$ is a value in the interval $[0,\\pi]$ and $\\varphi$ is a value in the interval $[0,2\\pi)$. Using spherical coordinates we can draw the state on the Bloch sphere following the convention in the image below:\n",
        "\n",
        "<img src=\"https://raw.githubusercontent.com/NVIDIA/cuda-q-academic/main/images/BlochsphereAngles.png\" alt=\"Image of a State on the Bloch Sphere with spherical coordinates indicated\" width=\"200\"/>\n",
        "\n",
        "For example, the state $$\\ket{-} = \\frac{1}{\\sqrt{2}}\\ket{0}-\\frac{1}{\\sqrt{2}}\\ket{1}$$ can be rewritten as\n",
        "$$\n",
        "\\ket{-} = \\cos(\\frac{\\pi}{4})\\ket{0}+\\sin(\\frac{\\pi}{4})e^{i\\pi}\\ket{1},\n",
        "$$\n",
        "where $\\theta = \\frac{\\pi}{2}$ and $\\varphi = \\pi$.\n",
        "For an explanation of how $\\theta$ and $\\varphi$ are found in general, check out this [source](https://davidmeyer.github.io/qc/bloch_sphere.pdf).\n",
        "Once we have found $\\theta$ and $\\varphi$, we can draw the state on the Bloch sphere. In particular, the state $\\ket{-}$ is a vector pointing in the direction of the negative $x$-axis, which gives some explanation for the jargon: \"minus state.\"\n",
        "\n",
        "<img src=\"https://raw.githubusercontent.com/NVIDIA/cuda-q-academic/main/images/BlochsphereMinus.png\" alt=\"Minus state represented on the Bloch Sphere\" width=\"200\"/>\n",
        "\n"
      ]
    },
    {
      "cell_type": "markdown",
      "id": "6eadb2fb",
      "metadata": {
        "id": "6eadb2fb"
      },
      "source": [
        "> **Take note:** In order to do any computation, we will need a mechanism for changing the state of a qubit.  Quantum computing allows us to change the state of a single qubit through quantum operations which can be visualized as rotations of the sphere. We'll explore this in more detail later in this notebook.  \n",
        "\n"
      ]
    },
    {
      "cell_type": "markdown",
      "id": "50d9941b",
      "metadata": {
        "id": "50d9941b"
      },
      "source": [
        "### 1.2.3 Using CUDA-Q to define and visualize a quantum state\n",
        "\n",
        "We are now ready to use CUDA-Q!\n",
        "\n",
        "> **FAQ:** *What is CUDA-Q?*\n",
        "\n",
        "> **Answer:** [CUDA-Q](https://developer.nvidia.com/cuda-q) is a platform designed for hybrid application development. That is, CUDA-Q allows programming in a heterogeneous environment that leverages not only quantum processors and quantum emulators, but also CPUs and GPUs. CUDA-Q is interoperable with CUDA and the CUDA software ecosystem for GPU-accelerated applications. CUDA-Q consists of both C++ and Python extensions. In these notebooks, we'll use Python.\n",
        "\n",
        " Let's use CUDA-Q to create the quantum states of single qubits and visualize them on the Bloch sphere.  CUDA-Q uses the `cudaq.kernel` decorator on functions to define quantum states, and, as we will see later, CUDA-Q kernels can also define quantum circuits.  "
      ]
    },
    {
      "cell_type": "code",
      "execution_count": null,
      "id": "15b5ecf2",
      "metadata": {
        "id": "15b5ecf2"
      },
      "outputs": [],
      "source": [
        "# Defining the minus state in CUDA-Q\n",
        "\n",
        "# First we define a vector of complex numbers\n",
        "# for the coefficients alpha and beta\n",
        "# of the state |psi> = alpha|0> + beta|1>,\n",
        "# where alpha = 1/sqrt(2)+0j and beta = -1/sqrt(2)+0j\n",
        "c = [complex(np.sqrt(2)/2, 0), complex(-np.sqrt(2)/2,0)]\n",
        "\n",
        "# Define a cudaq.kernel to represent the minus state\n",
        "@cudaq.kernel\n",
        "def minus_state():\n",
        "    q = cudaq.qvector(c)"
      ]
    },
    {
      "cell_type": "markdown",
      "id": "fba8e648",
      "metadata": {
        "id": "fba8e648"
      },
      "source": [
        "\n",
        "Once we have defined a kernel, we can call upon the `get_state` command to read out the state from the kernel.  Then, we can add this state to a Bloch sphere using `add_to_bloch_sphere` which is displayed with the `show` command and the file can be saved using the `save` option."
      ]
    },
    {
      "cell_type": "code",
      "execution_count": null,
      "id": "13f3c510",
      "metadata": {
        "id": "13f3c510"
      },
      "outputs": [],
      "source": [
        "# Visualizing a state in CUDA-Q\n",
        "\n",
        "# Define a sphere object representing the state of the single qubit\n",
        "sphere = cudaq.add_to_bloch_sphere(cudaq.get_state(minus_state))\n",
        "\n",
        "# Display the Bloch sphere\n",
        "cudaq.show(sphere)\n",
        "\n",
        "# Save the Bloch sphere image to a file\n",
        "sphere.save('MinusState.png')\n"
      ]
    },
    {
      "cell_type": "markdown",
      "id": "d5fc3056",
      "metadata": {
        "id": "d5fc3056"
      },
      "source": [
        "**Exercise 1:**  Create a Bloch sphere showing the states: $\\ket{0}, \\ket{1}, \\ket{+}$, and $\\ket{i} = \\frac{1}{\\sqrt{2}}\\ket{0}+\\frac{i}{\\sqrt{2}}\\ket{1}$.\n",
        "\n",
        "Hint: $e^{i\\pi} = -1$ and $e^{i\\frac{\\pi}{2}}=i$.\n",
        "\n",
        ">**CUDA-Q Quick Tip:** The `add_to_bloch_sphere` command can accept a single state as we demonstrated above, or a list of states that can be graphed in an array of separate Bloch spheres. You can read more about this visualization tool [here](https://nvidia.github.io/cuda-quantum/latest/examples/python/visualization.html)."
      ]
    },
    {
      "cell_type": "code",
      "execution_count": null,
      "id": "5debf1e5",
      "metadata": {
        "id": "5debf1e5"
      },
      "outputs": [],
      "source": [
        "# EXERCISE 1\n",
        "\n",
        "# First we define vectors for the coefficients alpha and beta\n",
        "# of the states |0>, |1>, |+>, and |i>, where each state is written\n",
        "# in the form |psi> = alpha|0> + beta|1> . Here alpha and beta are\n",
        "# of the form:\n",
        "# alpha = a_real + (a_imaginary)i\n",
        "# beta = b_real + (b_imaginary)i\n",
        "# with real values for the coefficients\n",
        "# a_real, a_imaginary, b_real, b_imaginary\n",
        "\n",
        "# c0 is a list of complex coefficients for the state |0>\n",
        "c0 = [complex(a_real, a_imaginary), complex(b_real, b_imaginary)] ###FIX_ME###\n",
        "c1 = ###FIX_ME###      # list of complex coefficients for the state |1>\n",
        "c2 = ###FIX_ME###      # list of complex coefficients for the state |+>\n",
        "c3 = ###FIX_ME###      # list of complex coefficients for the state |i>\n",
        "\n",
        "list_of_states = [c0,c1,c2,c3]\n",
        "\n",
        "# Define a cudaq.kernel to represent the state with given coefficients\n",
        "@cudaq.kernel\n",
        "def kernel_for_state(c:list[complex]):\n",
        "    q = cudaq.qvector(c)\n",
        "\n",
        "# Define a list of Bloch spheres, one sphere for each of the 4 states\n",
        "blochSphereList = []\n",
        "# Generate the 4 states by calling the kernel_for_state kernel for each list of coefficients\n",
        "for c in list_of_states:\n",
        "    sphere = cudaq.add_to_bloch_sphere(cudaq.get_state(kernel_for_state, c))\n",
        "    blochSphereList.append(sphere)\n",
        "\n",
        "# Display the Bloch spheres side by side in 2 rows and 2 columns\n",
        "cudaq.show(blochSphereList, nrows=2, ncols=2)"
      ]
    },
    {
      "cell_type": "markdown",
      "id": "92a938d1",
      "metadata": {
        "id": "92a938d1"
      },
      "source": [
        "## 1.3 Writing your first quantum programs\n",
        "\n",
        "Now that we understand qubits and have created quantum state representations in CUDA-Q, let's move on to actual quantum computation. We're ready to write our first quantum program!\n",
        "\n",
        "The general structure of a quantum program is:\n",
        "* Encode information into the quantum state by initializing qubit(s)\n",
        "* Manipulate the quantum state of the qubit(s) with quantum gate(s)\n",
        "* Extract information from the quantum state by measuring the state of the qubit(s)\n",
        "\n",
        "These three steps are outlined in the diagram below:\n",
        "\n",
        "<img src=\"https://raw.githubusercontent.com/NVIDIA/cuda-q-academic/main/images/circuit.png\" alt=\"image of a quantum circuit with the three partsL encode information, manipulate quantum states, extract information\" width=\"200\"/>\n",
        "\n",
        "In this section, we'll look at a few simple examples of quantum programs to illustrate these steps.  Throughout the notebook, we'll apply this template to generate and run more interesting examples.  Let's begin with two very simple quantum programs: a bit flip program and a Hello World program. Through these examples, you'll learn about two other important concepts: measurement and superposition.\n"
      ]
    },
    {
      "cell_type": "markdown",
      "id": "85b8182e",
      "metadata": {
        "id": "85b8182e"
      },
      "source": [
        "### 1.3.1 Bit Flip\n",
        "\n",
        "Let's walk through the three steps of writing the Bit Flip program in CUDA-Q. This program is a quantum version of the classical `NOT` operation that flips a bit from $0$ to $1$ and vice versa.\n",
        "\n",
        "Outline of the Bit Flip program: Going from $\\ket{0}$ to $\\ket{1}$.\n",
        "* Initialize the zero state\n",
        "* Manipulate the quantum state by applying the bit flip gate (the `x` gate)\n",
        "* Measure the qubit\n",
        "\n",
        "Let's start by defining a kernel and specifying that this kernel only contains one qubit.  \n",
        "\n",
        "> **CUDA-Q Quick Tip:**  The `cudaq.qvector` command has two purposes.  When `cudaq.qvector` accepts a `list` as we saw in the `minus_state` example in the previous section, the kernel is initialized in the state corresponding to the coefficients from the list.  In the example below, `cudaq.qvector` will accept an `int` value and will allocate that number of qubits to the kernel.  These qubits, by default, are initialized in the zero-state."
      ]
    },
    {
      "cell_type": "code",
      "execution_count": null,
      "id": "094ae2e2",
      "metadata": {
        "id": "094ae2e2"
      },
      "outputs": [],
      "source": [
        "# Writing a bit flip program one step at a time\n",
        "# Step 1: Create a kernel with one qubit initialized in the zero state\n",
        "\n",
        "@cudaq.kernel\n",
        "def bitflip():\n",
        "    # Allocate one qubit to the kernel. It is by default initialized in the zero state\n",
        "    qubit = cudaq.qvector(1)\n",
        "\n",
        "    # Manipulate the quantum state by applying the bit flip gate (the `x` gate)\n",
        "    # To be completed later in this section\n",
        "\n",
        ""
      ]
    },
    {
      "cell_type": "markdown",
      "id": "e1da83c5",
      "metadata": {
        "id": "e1da83c5"
      },
      "source": [
        "Let's check to see that the code above initiated a qubit in the zero state by getting the state and plotting it on the Bloch sphere."
      ]
    },
    {
      "cell_type": "code",
      "execution_count": null,
      "id": "1c91554c",
      "metadata": {
        "id": "1c91554c"
      },
      "outputs": [],
      "source": [
        "# Visualizing a state of the bitflip kernel before the x gate is applied\n",
        "\n",
        "# Define a sphere object representing the state of the single qubit\n",
        "sphere = cudaq.add_to_bloch_sphere(cudaq.get_state(bitflip))\n",
        "\n",
        "# Display the Bloch sphere\n",
        "cudaq.show(sphere)"
      ]
    },
    {
      "cell_type": "markdown",
      "id": "32c04732",
      "metadata": {
        "id": "32c04732"
      },
      "source": [
        "Next we want to manipulate the zero state, $\\ket{0}$, and change it to the one state, $\\ket{1}$.  One way of doing this is by rotating the Bloch sphere 180 degrees around the x-axis.  Mathematically, this can be carried out through matrix multiplication.  Recall that $\\ket{0}=\\begin{pmatrix}1\\\\0\\end{pmatrix}$ and $\\ket{1}=\\begin{pmatrix}0\\\\1\\end{pmatrix}$. Notice that the matrix $X=\\begin{pmatrix}0 & 1 \\\\ 1 & 0 \\end{pmatrix}$ has the property that we're looking for.  Namely, multiplying the zero state by $X$ returns the one state: $$X\\ket{0} = \\ket{1}.$$  \n",
        "\n",
        "In general, we can change a quantum state through multiplication by a unitary matrix. (The definition of a unitary matrix is not critical for this notebook, but if you're curious you can learn more in [chapter 1 of Quantum Computer Science](http://mermin.lassp.cornell.edu/qcomp/CS483.html).) In the context of a quantum program, we refer to matrix multiplication by a unitary matrix $U$ as applying a $U$-gate.   In CUDA-Q, the $X$-gate is implemented with the syntax `x`.\n",
        "\n",
        "> **CUDA-Q Quick Tip:** You can view all the built-in quantum gate operations in CUDA-Q [here](https://nvidia.github.io/cuda-quantum/latest/api/default_ops.html#unitary-operations-on-qubits).\n",
        "\n",
        "Let's go ahead and apply the `x`-gate to the qubit in our kernel.\n",
        "\n"
      ]
    },
    {
      "cell_type": "code",
      "execution_count": null,
      "id": "7aace69f",
      "metadata": {
        "id": "7aace69f"
      },
      "outputs": [],
      "source": [
        "# Writing a bit flip program one step at a time\n",
        "# Step 2: Apply the X-gate\n",
        "\n",
        "@cudaq.kernel\n",
        "def bitflip():\n",
        "    # Allocate 1 qubit initialized in the zero state\n",
        "    qubit = cudaq.qvector(1)\n",
        "\n",
        "    # Manipulate the quantum state by applying the bit flip gate (the `x` gate)\n",
        "    x(qubit[0]) # Apply the x-gate to the first qubit, which is indexed with 0\n",
        "\n",
        ""
      ]
    },
    {
      "cell_type": "markdown",
      "id": "e949f32c",
      "metadata": {
        "id": "e949f32c"
      },
      "source": [
        "Let's use the `get_state` command again to check that the `bitflip` kernel does what we expect, that is, change the state from $\\ket{0}$ to $\\ket{1}.$"
      ]
    },
    {
      "cell_type": "code",
      "execution_count": null,
      "id": "377a4d09",
      "metadata": {
        "id": "377a4d09"
      },
      "outputs": [],
      "source": [
        "# Visualizing the action of the bitflip kernel\n",
        "\n",
        "sphere = cudaq.add_to_bloch_sphere(cudaq.get_state(bitflip))\n",
        "cudaq.show(sphere)"
      ]
    },
    {
      "cell_type": "markdown",
      "id": "eaff8357",
      "metadata": {
        "id": "eaff8357"
      },
      "source": [
        "The process of visualizing the state of a kernel on a Bloch sphere using `get_state` is not very efficient and won't be useful when we have many qubits. Firstly, Bloch spheres can only represent the state of a single qubit.  But also, the `get_state` command may be overkill for the amount of information we can or need to recover from several qubits.  As we'll see in the next lab, to describe the state of $n$ qubits we need to compute $2^n$ probability amplitudes. This may be prohibilitively expensive to compute in terms of time and memory resources.\n",
        "\n",
        "Fortunately, there are other visualization tools that we can use to check the kernels that we create.  Some kernels can be represented as\n",
        "quantum circuit diagrams. CUDA-Q includes the `cudaq.draw` command to generate an ascii image of the circuit diagram of a kernel.  Basically, each row of the circuit diagram represents a qubit. In this case, we only have one qubit, which by default is named `q0` in the diagram. Operations applied to the qubit are shown as boxes and are read from left to right. Our kernel has only one gate, the `x` gate. We'll discuss these diagrams in more detail later after we've seen a few other examples."
      ]
    },
    {
      "cell_type": "code",
      "execution_count": null,
      "id": "381939ac",
      "metadata": {
        "id": "381939ac"
      },
      "outputs": [],
      "source": [
        "# Drawing the circuit representation of the bit flip kernel\n",
        "\n",
        "print(cudaq.draw(bitflip))"
      ]
    },
    {
      "cell_type": "markdown",
      "id": "9d9894a1",
      "metadata": {
        "id": "9d9894a1"
      },
      "source": [
        "> **FAQ:** *What's the difference between a quantum kernel and a quantum circuit?*\n",
        "\n",
        "> **Answer:** Quantum kernels are more general than quantum circuits.  That is, every quantum circuit is a quantum kernel, but not every quantum kernel is a quantum circuit. Quantum kernels are defined as functions that are executed on a quantum processing unit (QPU) or a simulated QPU. Quantum kernels can be combined with classical functions to create quantum-classical applications that can be executed on a heterogeneous system of QPUs, GPUs, and CPUs to solve real-world problems."
      ]
    },
    {
      "cell_type": "markdown",
      "id": "aa1fbded",
      "metadata": {
        "id": "aa1fbded"
      },
      "source": [
        "The final step of our first quantum program is to extract information from the quantum state of the qubit.  This is done with the `sample` command. The sample command runs the kernel and takes a measurement `shots_count`-many times\n",
        "\n",
        "In our example, applying the `x`-gate to the zero state will always result in the one state, unless of course there are errors in the circuit execution.  That's a topic for another day.  Now, we'll assume that all of our kernel executions are error free.  In this case, we would expect to see the one state returned for each kernel execution. Run the cell block below to see the results."
      ]
    },
    {
      "cell_type": "code",
      "execution_count": null,
      "id": "eed84dcc",
      "metadata": {
        "id": "eed84dcc"
      },
      "outputs": [],
      "source": [
        "# Sampling the bit flip kernel\n",
        "shots = 123\n",
        "results = cudaq.sample(bitflip, shots_count=shots)\n",
        "\n",
        "# The output of the sample command looks like a dictionary, but is of a different type\n",
        "print(\"Results from sampling {} times: {}\\n\".format(shots, results))\n",
        "print(\"Although the results appear to be of type dict, \\n the type of the results from the sample \\n command is {}.\\n\".format(type(results)))\n",
        "\n",
        "# Often it will be useful to identify the most probable outcome\n",
        "# and the probability of this outcome\n",
        "most_probable_result = results.most_probable()\n",
        "probability = results.probability(most_probable_result)\n",
        "print(\"Most probable result: \" + most_probable_result)\n",
        "print(\"Measured with probability \" + str(probability), end='\\n\\n')\n"
      ]
    },
    {
      "cell_type": "markdown",
      "id": "3d81d4a3",
      "metadata": {
        "id": "3d81d4a3"
      },
      "source": [
        "You may notice that the result of executing the `bitflip` kernel is a (classical) $1$, which is technically a different type than the quantum state $\\ket{1}$.  Let's look at the Hello World example below which will help illustrate what is going on with the `sample` command and how information is extracted from a quantum state."
      ]
    },
    {
      "cell_type": "markdown",
      "id": "98d10d00",
      "metadata": {
        "id": "98d10d00"
      },
      "source": [
        "> **CUDA-Q Quick Tip:**\n",
        "The `sample` command runs the kernel and takes a measurement `shots_count`-many times. The result of the `sample` command is a `SampleReslult` dictionary of the distribution of the bitstrings resulting from the sampling.\n",
        "To create a standard Python dictionary of type dict from an object (say `sample_results`) of type `cudaq.SampleResult`, you can use a command such as `asDict = {k:v for k,v in sample_results.items()}`."
      ]
    },
    {
      "cell_type": "markdown",
      "id": "3358d45b",
      "metadata": {
        "id": "3358d45b"
      },
      "source": [
        "### 1.3.3 Hello World example"
      ]
    },
    {
      "cell_type": "markdown",
      "id": "ba3123fa",
      "metadata": {
        "id": "ba3123fa"
      },
      "source": [
        "To get a better appreciation how quantum programs differ from classical programs, let's look at a Hello World program, which revisits the minus state kernel and will give us the opportunity to discuss two important concepts: superposition and measurement.\n",
        "\n",
        "Hello World: Generate and measure the Minus State\n",
        "* Initialize one qubit in the one-state\n",
        "* Manipulate the quantum state by transforming it into the minus state\n",
        "* Extract information from the quantum state by taking measurement(s)"
      ]
    },
    {
      "cell_type": "markdown",
      "id": "ff24b78b",
      "metadata": {
        "id": "ff24b78b"
      },
      "source": [
        "We already created a kernel (`minus_state`) to initialize the minus state by passing a list of coefficients to the `cudaq.qvector` command.  There are other ways to initialize a state if we know the gate operations that generate it. The Hadamard operator applied to $\\ket{1}$ generates the state $\\ket{-}$."
      ]
    },
    {
      "cell_type": "markdown",
      "id": "1fcf17d7",
      "metadata": {
        "id": "1fcf17d7"
      },
      "source": [
        "The Hadamard operator is the matrix $$H =  \\frac{1}{\\sqrt{2}}\\begin{pmatrix} 1&  1 \\\\ 1 &  -1\\end{pmatrix}.$$\n",
        "\n",
        "Notice that if we multiply $H$ and $\\ket{1}$ we get $\\ket{-}$:  \n",
        "\n",
        "$$ H\\ket{1} =  \\frac{1}{\\sqrt{2}}\\begin{pmatrix} 1&  1 \\\\ 1 &  -1\\end{pmatrix}\\begin{pmatrix} 0 \\\\ 1 \\end{pmatrix} = \\frac{1}{\\sqrt{2}}\\begin{pmatrix} 1 \\\\   -1\\end{pmatrix} = \\ket{-}.$$\n",
        "\n",
        "This calculation suggests a way to generate the minus state:\n",
        "\n",
        "* First intialize the one state and then apply the Hadamard gate using the CUDA-Q command `h`.  \n",
        "* This leaves the question: how do we initialize the one state? The answer is implicit in the previous example: apply the `x`-gate to the zero-state.  \n",
        "\n",
        "We now have a plan, so let's code it up."
      ]
    },
    {
      "cell_type": "code",
      "execution_count": null,
      "id": "cd5c8b45",
      "metadata": {
        "id": "cd5c8b45"
      },
      "outputs": [],
      "source": [
        "# Kernel for the minus state\n",
        "\n",
        "@cudaq.kernel\n",
        "def minus_kernel():\n",
        "    # Allocate a qubit\n",
        "    qvector = cudaq.qvector(1)\n",
        "\n",
        "    # Initialize the state |1>\n",
        "    x(qvector)\n",
        "\n",
        "    # Apply the Hadamard gate\n",
        "    h(qvector)\n",
        "\n",
        "# Draw the circuit to check our work\n",
        "print(cudaq.draw(minus_kernel))"
      ]
    },
    {
      "cell_type": "markdown",
      "id": "dd6a9a66",
      "metadata": {
        "id": "dd6a9a66"
      },
      "source": [
        "**EXERCISE 2**: Edit the code block below to check your work by graphing the Bloch sphere of the state generated by `minus_kernel`."
      ]
    },
    {
      "cell_type": "code",
      "execution_count": null,
      "id": "65459fcf",
      "metadata": {
        "id": "65459fcf"
      },
      "outputs": [],
      "source": [
        "# EXERCISE 2\n",
        "\n",
        "# Visualizing the action of the minus_kernel\n",
        "\n",
        "sphere = ##FIX_ME##\n",
        "cudaq.show(sphere)"
      ]
    },
    {
      "cell_type": "markdown",
      "id": "80a156d7",
      "metadata": {
        "id": "80a156d7"
      },
      "source": [
        "Let's sample the `minus_kernel` and examine the results."
      ]
    },
    {
      "cell_type": "code",
      "execution_count": null,
      "id": "6455db2a",
      "metadata": {
        "id": "6455db2a"
      },
      "outputs": [],
      "source": [
        "# Sampling the minus kernel\n",
        "shots = 123\n",
        "results = cudaq.sample(minus_kernel, shots_count=shots)\n",
        "print(\"Results from sampling {} times: {}\".format(shots, results))\n",
        "\n",
        "# Often it will be useful to identify the most probable outcome\n",
        "# and the probability of this outcome\n",
        "most_probable_result = results.most_probable()\n",
        "probability = results.probability(most_probable_result)\n",
        "print(\"Most probable result: \" + most_probable_result)\n",
        "print(\"Measured with probability \" + str(probability), end='\\n\\n')"
      ]
    },
    {
      "cell_type": "markdown",
      "id": "fd5eaaeb",
      "metadata": {
        "id": "fd5eaaeb"
      },
      "source": [
        "Notice how these results differ from what we saw in the Bit Flip program.  We'll investigate what is going on in this example in more detail in the following section."
      ]
    },
    {
      "cell_type": "markdown",
      "id": "dcb9a707",
      "metadata": {
        "id": "dcb9a707"
      },
      "source": [
        "## 1.4 Intepret the results of a quantum program"
      ]
    },
    {
      "cell_type": "markdown",
      "id": "6cab4300",
      "metadata": {
        "id": "6cab4300"
      },
      "source": [
        "### 1.4.1 Born's Rule\n",
        "\n",
        "Let's further explore the `minus_kernel` example from the previous section to better understand the `sample` command.  We've copied the codeblock from the previous section here, but we've edited the `shots` variable to equal $1$. Execute the cell block below a couple of times and see if you notice anything.\n"
      ]
    },
    {
      "cell_type": "code",
      "execution_count": null,
      "id": "ef6aabbc",
      "metadata": {
        "id": "ef6aabbc"
      },
      "outputs": [],
      "source": [
        "# Sampling the minus kernel\n",
        "shots = 1\n",
        "results = cudaq.sample(minus_kernel, shots_count=shots)\n",
        "print(\"Results from sampling {} time: {}\".format(shots, results))\n"
      ]
    },
    {
      "cell_type": "markdown",
      "id": "b53c37df",
      "metadata": {
        "id": "b53c37df"
      },
      "source": [
        "\n",
        " What do you notice when you run this code block a couple of times?  The result varies.  This is because quantum systems are inherently probabilistic in nature.  You might see that roughly half of the time the outcome will be $0$ and the remaining times, the outcome will be a $1$.  This non-deterministic behavior can be explained by *Born's Rule*.    \n",
        "\n",
        " **Born's Rule** roughly states that if a qubit is in the quantum state $\\ket{\\psi}=\\alpha\\ket{0}+\\beta\\ket{1}$ with $\\alpha$ and $\\beta$ complex values satisfying $|\\alpha|^2+|\\beta|^2 = 1$, then when measured, the outcome will be $0$ with probability $|\\alpha|^2$ and $1$ with probability $|\\beta|^2$. Furthermore upon measurement, the state of the qubit collapses; that is, the state of the qubit will change to $\\ket{0}$ if a $0$ is measured and the qubit will change to $\\ket{1}$ if a $1$ is measured."
      ]
    },
    {
      "cell_type": "markdown",
      "id": "628fd71d",
      "metadata": {
        "id": "628fd71d"
      },
      "source": [
        "**Exercise 3:** Based on Born's rule, what do you expect the probability of measuring the minus state as $0$ to be?  How does this compare to the results of your execution of the `minus_kernel` in the cell block above?  You might notice that the percentage of times you measure a $0$ is close, but not exactly equal to what Born's rule would predict.  Edit the `###FIX_ME###` line in the code block below to achieve sampling results more closely equal Born's rules prediction.\n",
        "\n",
        "*Hint*: Think about the [Central Limit Theorem for Proportions](https://2012books.lardbucket.org/books/beginning-statistics/s10-03-the-sample-proportion.html) from statistics. What do you notice as you increase the number of shots?"
      ]
    },
    {
      "cell_type": "code",
      "execution_count": null,
      "id": "c25da70d",
      "metadata": {
        "id": "c25da70d"
      },
      "outputs": [],
      "source": [
        "# EXERCISE 3\n",
        "# Sampling the minus kernel\n",
        "shots = ###FIX_ME###\n",
        "results = cudaq.sample(minus_kernel, shots_count=shots)\n",
        "print(\"Results from sampling {} times: {}\".format(shots, results))\n",
        "\n",
        "# Often it will be useful to identify the most probable outcome\n",
        "# and the probability of this outcome\n",
        "most_probable_result = results.most_probable()\n",
        "probability = results.probability(most_probable_result)\n",
        "print(\"Most probable result: \" + most_probable_result)\n",
        "print(\"Measured with probability \" + str(probability), end='\\n\\n')"
      ]
    },
    {
      "cell_type": "markdown",
      "id": "80ff7e02",
      "metadata": {
        "id": "80ff7e02"
      },
      "source": [
        "### 1.4.2 Superposition\n",
        "\n",
        "The concept that distinguishes the Bit Flip program from the Hello World program is superposition.  \n",
        "\n",
        "**Superposition** is one of the fundamental concepts in quantum mechanics that differentiates quantum computation from classical computation.  A state $\\ket{\\psi}=\\alpha\\ket{0}+\\beta\\ket{1}$ is in superposition, if both $\\alpha$ and $\\beta$ are non-zero.  In other words, $\\ket{\\psi}$ has a non-zero probability of being measured as a $0$, but also a non-zero probability of being measured as a $1$.  It's important to note that if qubit is in a state of superposition, when it is measured, it will collapse to either $\\ket{0}$ or $\\ket{1}$ and will no longer be in superposition.\n",
        "\n",
        "The $\\ket{-}$ state that we examined in the previous section is a state in superposition with the likelihood of measuring a $0$ to be $50\\%$ and the likelihood of measuring a $1$ to be $50\\%$.  There are other states that are distinct from $\\ket{-}$ that are also in a state of equal superposition.  Let's take a look at one of those, the plus state (i.e., $\\ket{+}$). In addition to creating and sampling a kernel for the plus state in the code block below, we've used this example to illustrate two other CUDA-Q programming tips:"
      ]
    },
    {
      "cell_type": "markdown",
      "id": "aa233909",
      "metadata": {
        "id": "aa233909"
      },
      "source": [
        ">**CUDA-Q Quick Tip:** When allocating just one qubit, you can use `qubit()` in place of `qvector(1)`.\n",
        "\n",
        ">**CUDA-Q Quick Tip:** By default, when not specified, qubit measurements are conducted on the standard computational basis, which is along the $z$-axis.  In the cell block below, we have added the measurement explicitly with the `mz` command. There are other measurement options `mx` and `my` built into CUDA-Q that we'll experiment with in the next section."
      ]
    },
    {
      "cell_type": "code",
      "execution_count": null,
      "id": "fac8fd81",
      "metadata": {
        "id": "fac8fd81"
      },
      "outputs": [],
      "source": [
        "\n",
        "# Kernel for the plus state\n",
        "@cudaq.kernel\n",
        "def plus_kernel():\n",
        "\n",
        "    # Allocate a qubit\n",
        "    # Initialize the state |0>\n",
        "    one_qubit = cudaq.qubit()\n",
        "    # Apply the Hadamard gate\n",
        "    h(one_qubit)\n",
        "\n",
        "    # Specify the measurement\n",
        "    mz(one_qubit)\n",
        "\n",
        "\n",
        "# Draw the circuit to check our work\n",
        "print(cudaq.draw(plus_kernel))\n",
        "\n",
        "# Sampling the minus kernel\n",
        "shots = 1000\n",
        "results = cudaq.sample(plus_kernel, shots_count=shots)\n",
        "print(results)\n",
        "\n",
        "# Often it will be useful to identify the most probable outcome\n",
        "# and the probability of this outcome\n",
        "most_probable_result = results.most_probable()\n",
        "probability = results.probability(most_probable_result)\n",
        "print(\"Most probable result: \" + most_probable_result)\n",
        "print(\"Measured with probability \" + str(probability), end='\\n\\n')\n"
      ]
    },
    {
      "cell_type": "markdown",
      "id": "bd12b584",
      "metadata": {
        "id": "bd12b584"
      },
      "source": [
        "### 1.5 More about Measurement (optional)"
      ]
    },
    {
      "cell_type": "markdown",
      "id": "aa95599a",
      "metadata": {
        "id": "aa95599a"
      },
      "source": [
        "How do the results of sampling the `plus_kernel` compare to those obtained for the `minus_kernel` in the previous section?  What does this seem to apply concerning our ability to distinguish $\\ket{+}$ from $\\ket{-}$?  \n",
        "\n",
        "If qubits store information, we would like to be able distinguish two qubits that might be storing different information. For example we might want to distinguish the one-qubit state $\\ket{+}$ from the state $\\ket{-}$. We'll resolve this issue in the next example by changing the way we measure the two qubits."
      ]
    },
    {
      "cell_type": "markdown",
      "id": "27f24170",
      "metadata": {
        "id": "27f24170"
      },
      "source": [
        "**Exercise 4:** Create two quantum kernels to sample.  The first will prepare the $\\ket{+}$ state and then measure with `mx`.  The second kernel will prepare the $\\ket{-}$ state and then measure with `mx`.  "
      ]
    },
    {
      "cell_type": "code",
      "execution_count": null,
      "id": "a9659851",
      "metadata": {
        "id": "a9659851"
      },
      "outputs": [],
      "source": [
        "# EXERCISE 4\n",
        "\n",
        "shots = 1000\n",
        "\n",
        "@cudaq.kernel\n",
        "def plus_measure_x():\n",
        "    ## EDIT CODE BELOW THIS LINE\n",
        "\n",
        "\n",
        "\n",
        "    ## EDIT CODE ABOVE THIS LINE\n",
        "\n",
        "@cudaq.kernel\n",
        "def minus_measure_x():\n",
        "    ## EDIT CODE BELOW THIS LINE\n",
        "\n",
        "\n",
        "    ## EDIT CODE ABOVE THIS LINE\n",
        "\n",
        "results_plus_measure_x = cudaq.sample(plus_measure_x, shots_count=shots)\n",
        "print(\"Results from sampling the plus_hadamard kernel {} times: {}\".format(shots, results_plus_measure_x))\n",
        "\n",
        "results_minus_measure_x = cudaq.sample(minus_measure_x, shots_count=shots)\n",
        "print(\"Results from sampling the minus_hadamard kernel {} times: {}\".format(shots, results_minus_measure_x))"
      ]
    },
    {
      "cell_type": "markdown",
      "id": "eae0ba49",
      "metadata": {
        "id": "eae0ba49"
      },
      "source": [
        "Notice that the results dictionaries from sampling the $\\ket{+}$ and $\\ket{-}$, respectively differ from one another.  And thus, by switching to measurement with the `mx` command we are able to distinguish these two states. However, there is a drawback &#8212; measuring with `mx` doesn't allow us to distinguish $\\ket{0}$ from $\\ket{1}$, because of the Uncertainty Principle in quantum mechanics. Test this claim out for yourself by creating and sampling kernels for the $\\ket{0}$ and $\\ket{1}$ states using the `mx` measurements.\n",
        "\n",
        "What is happening when we take a measurement?  What distinguishes the `mz` command from the `mx` command?  Abstractly when we are measuring a state $\\ket{\\psi}=\\alpha\\ket{0}+\\beta\\ket{1}$ with `mz`, we are applying Born's rule to the state $\\ket{\\psi}$. This act of measurement will collapse the state to $\\ket{0}$, with a probability $|\\alpha|^2$  and will collapse the state of the qubit to  $\\ket{1}$ with probability $|\\beta|^2$. You can graphically visualize this collapse under a `mz` measurement on the Bloch sphere as projecting the state $\\ket{\\psi}$ onto the $z$ axis.  \n",
        "\n",
        "Analogously, when measuring with `mx` we will be collapsing our state $\\ket{\\psi}$ to either $\\ket{+}$ or $\\ket{-}$ along the $x$-axis of the Bloch sphere.  We can use Born's Rule for this measurement, too.  The only difference is now instead of writing $\\ket{\\psi}$ in terms of computational basis states $\\ket{0}$ and $\\ket{1}$, we'll find coefficients $\\gamma$ and $\\delta$ so that $\\ket{\\psi}=\\gamma\\ket{+}+\\delta\\ket{-}$. With the `mx`measurement, the probabilities of measuring a $0$ and $1$ are determined by $|\\gamma|^2$ and $|\\delta|^2$, respectively.\n",
        "So for the case of $\\ket{+}$, the probability of measuring $0$ with `mx` is $100\\%$, and for $\\ket{-}$ the probability of measuring a $1$ with `mx` is $100\\%$. Therefore, `mx` gives us a way to distinguish $\\ket{+}$ and $\\ket{-}$ with only one shot, assuming there is no noise.\n",
        "\n",
        "For the remainder of this series of labs, we'll only be measuring with `mz`. To learn more about measurement, check out [chapter 4 of Introduction to Quantum Information Science](https://qubit.guide/4.1-hilbert-spaces-briefly) or [section 2.2.3 of Introduction to Classical and Quantum Computing](https://www.thomaswong.net/introduction-to-classical-and-quantum-computing-1e4p.pdf)."
      ]
    },
    {
      "cell_type": "markdown",
      "id": "1bef4cf6",
      "metadata": {
        "id": "1bef4cf6"
      },
      "source": [
        "## Next\n",
        "\n",
        "There's not a whole lot we can do with just one qubit.  In fact, one of the fundamental quantum properites (entanglement) requires more than one qubit.  Let's move to Lab 2, where we start programming with more than one qubit and learn about entanglement."
      ]
    },
    {
      "cell_type": "markdown",
      "id": "7f0ba698",
      "metadata": {
        "id": "7f0ba698"
      },
      "source": [
        "![](https://github.com/NVIDIA/cuda-q-academic/blob/main/quick-start-to-quantum/images/nvidia-logo.png?raw=1)"
      ]
    }
  ],
  "metadata": {
    "kernelspec": {
      "display_name": "Python 3",
      "language": "python",
      "name": "python3"
    },
    "language_info": {
      "codemirror_mode": {
        "name": "ipython",
        "version": 3
      },
      "file_extension": ".py",
      "mimetype": "text/x-python",
      "name": "python",
      "nbconvert_exporter": "python",
      "pygments_lexer": "ipython3",
      "version": "3.10.12"
    },
    "colab": {
      "provenance": [],
      "include_colab_link": true
    },
    "widgets": {
      "application/vnd.jupyter.widget-state+json": {
        "e7ba53b4462b4d42b958636b7b1ca0f8": {
          "model_module": "@jupyter-widgets/controls",
          "model_name": "HTMLModel",
          "model_module_version": "1.5.0",
          "state": {
            "_dom_classes": [],
            "_model_module": "@jupyter-widgets/controls",
            "_model_module_version": "1.5.0",
            "_model_name": "HTMLModel",
            "_view_count": null,
            "_view_module": "@jupyter-widgets/controls",
            "_view_module_version": "1.5.0",
            "_view_name": "HTMLView",
            "description": "",
            "description_tooltip": null,
            "layout": "IPY_MODEL_b2c76d76e32e4ea580cc1ff1659de4af",
            "placeholder": "​",
            "style": "IPY_MODEL_c0f08ca259614bceb1da65539e9abed2",
            "value": "<h3>Rotation of |0> about the X, Y, and Z axis by angles nx*π, ny*π, nz*π, respectively</h3>"
          }
        },
        "b2c76d76e32e4ea580cc1ff1659de4af": {
          "model_module": "@jupyter-widgets/base",
          "model_name": "LayoutModel",
          "model_module_version": "1.2.0",
          "state": {
            "_model_module": "@jupyter-widgets/base",
            "_model_module_version": "1.2.0",
            "_model_name": "LayoutModel",
            "_view_count": null,
            "_view_module": "@jupyter-widgets/base",
            "_view_module_version": "1.2.0",
            "_view_name": "LayoutView",
            "align_content": null,
            "align_items": null,
            "align_self": null,
            "border": null,
            "bottom": null,
            "display": null,
            "flex": null,
            "flex_flow": null,
            "grid_area": null,
            "grid_auto_columns": null,
            "grid_auto_flow": null,
            "grid_auto_rows": null,
            "grid_column": null,
            "grid_gap": null,
            "grid_row": null,
            "grid_template_areas": null,
            "grid_template_columns": null,
            "grid_template_rows": null,
            "height": null,
            "justify_content": null,
            "justify_items": null,
            "left": null,
            "margin": null,
            "max_height": null,
            "max_width": null,
            "min_height": null,
            "min_width": null,
            "object_fit": null,
            "object_position": null,
            "order": null,
            "overflow": null,
            "overflow_x": null,
            "overflow_y": null,
            "padding": null,
            "right": null,
            "top": null,
            "visibility": null,
            "width": null
          }
        },
        "c0f08ca259614bceb1da65539e9abed2": {
          "model_module": "@jupyter-widgets/controls",
          "model_name": "DescriptionStyleModel",
          "model_module_version": "1.5.0",
          "state": {
            "_model_module": "@jupyter-widgets/controls",
            "_model_module_version": "1.5.0",
            "_model_name": "DescriptionStyleModel",
            "_view_count": null,
            "_view_module": "@jupyter-widgets/base",
            "_view_module_version": "1.2.0",
            "_view_name": "StyleView",
            "description_width": ""
          }
        },
        "6c0e2f1bb5a7464bb52862f377fbbb64": {
          "model_module": "@jupyter-widgets/controls",
          "model_name": "VBoxModel",
          "model_module_version": "1.5.0",
          "state": {
            "_dom_classes": [
              "widget-interact"
            ],
            "_model_module": "@jupyter-widgets/controls",
            "_model_module_version": "1.5.0",
            "_model_name": "VBoxModel",
            "_view_count": null,
            "_view_module": "@jupyter-widgets/controls",
            "_view_module_version": "1.5.0",
            "_view_name": "VBoxView",
            "box_style": "",
            "children": [
              "IPY_MODEL_352309eb2c0341c8bdbb271c8b245eda",
              "IPY_MODEL_4f3df4498a454fc1b9092e61f1556e13",
              "IPY_MODEL_b98b104d90834f5ca51f431992feebe0",
              "IPY_MODEL_d592c31e6d6140edadd9c4c1c3f144ba"
            ],
            "layout": "IPY_MODEL_4604229927104754b401010f7d4f99d9"
          }
        },
        "352309eb2c0341c8bdbb271c8b245eda": {
          "model_module": "@jupyter-widgets/controls",
          "model_name": "FloatSliderModel",
          "model_module_version": "1.5.0",
          "state": {
            "_dom_classes": [],
            "_model_module": "@jupyter-widgets/controls",
            "_model_module_version": "1.5.0",
            "_model_name": "FloatSliderModel",
            "_view_count": null,
            "_view_module": "@jupyter-widgets/controls",
            "_view_module_version": "1.5.0",
            "_view_name": "FloatSliderView",
            "continuous_update": false,
            "description": "nx:",
            "description_tooltip": null,
            "disabled": false,
            "layout": "IPY_MODEL_80198fa471434fccb39785d5373cddf7",
            "max": 2,
            "min": 0,
            "orientation": "horizontal",
            "readout": true,
            "readout_format": ".2f",
            "step": 0.01,
            "style": "IPY_MODEL_8c58e46ff308443388eac471cf937630",
            "value": 0.97
          }
        },
        "4f3df4498a454fc1b9092e61f1556e13": {
          "model_module": "@jupyter-widgets/controls",
          "model_name": "FloatSliderModel",
          "model_module_version": "1.5.0",
          "state": {
            "_dom_classes": [],
            "_model_module": "@jupyter-widgets/controls",
            "_model_module_version": "1.5.0",
            "_model_name": "FloatSliderModel",
            "_view_count": null,
            "_view_module": "@jupyter-widgets/controls",
            "_view_module_version": "1.5.0",
            "_view_name": "FloatSliderView",
            "continuous_update": false,
            "description": "ny:",
            "description_tooltip": null,
            "disabled": false,
            "layout": "IPY_MODEL_5c20a619c1aa44808401284501aa876a",
            "max": 2,
            "min": 0,
            "orientation": "horizontal",
            "readout": true,
            "readout_format": ".2f",
            "step": 0.01,
            "style": "IPY_MODEL_8cd3f40a6a0046abb40afa467a80e0f7",
            "value": 0
          }
        },
        "b98b104d90834f5ca51f431992feebe0": {
          "model_module": "@jupyter-widgets/controls",
          "model_name": "FloatSliderModel",
          "model_module_version": "1.5.0",
          "state": {
            "_dom_classes": [],
            "_model_module": "@jupyter-widgets/controls",
            "_model_module_version": "1.5.0",
            "_model_name": "FloatSliderModel",
            "_view_count": null,
            "_view_module": "@jupyter-widgets/controls",
            "_view_module_version": "1.5.0",
            "_view_name": "FloatSliderView",
            "continuous_update": false,
            "description": "nz:",
            "description_tooltip": null,
            "disabled": false,
            "layout": "IPY_MODEL_07261e47f2f24cb89b2d743a9c4afcd8",
            "max": 2,
            "min": 0,
            "orientation": "horizontal",
            "readout": true,
            "readout_format": ".2f",
            "step": 0.01,
            "style": "IPY_MODEL_f3af20017ba34af9b785cbea22a7a80a",
            "value": 0
          }
        },
        "d592c31e6d6140edadd9c4c1c3f144ba": {
          "model_module": "@jupyter-widgets/output",
          "model_name": "OutputModel",
          "model_module_version": "1.0.0",
          "state": {
            "_dom_classes": [],
            "_model_module": "@jupyter-widgets/output",
            "_model_module_version": "1.0.0",
            "_model_name": "OutputModel",
            "_view_count": null,
            "_view_module": "@jupyter-widgets/output",
            "_view_module_version": "1.0.0",
            "_view_name": "OutputView",
            "layout": "IPY_MODEL_f3d5c8b6c73a4760b8be521c7e4b9bd1",
            "msg_id": "",
            "outputs": [
              {
                "output_type": "display_data",
                "data": {
                  "text/plain": "<Figure size 500x500 with 1 Axes>",
                  "image/png": "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\n"
                },
                "metadata": {}
              }
            ]
          }
        },
        "4604229927104754b401010f7d4f99d9": {
          "model_module": "@jupyter-widgets/base",
          "model_name": "LayoutModel",
          "model_module_version": "1.2.0",
          "state": {
            "_model_module": "@jupyter-widgets/base",
            "_model_module_version": "1.2.0",
            "_model_name": "LayoutModel",
            "_view_count": null,
            "_view_module": "@jupyter-widgets/base",
            "_view_module_version": "1.2.0",
            "_view_name": "LayoutView",
            "align_content": null,
            "align_items": null,
            "align_self": null,
            "border": null,
            "bottom": null,
            "display": null,
            "flex": null,
            "flex_flow": null,
            "grid_area": null,
            "grid_auto_columns": null,
            "grid_auto_flow": null,
            "grid_auto_rows": null,
            "grid_column": null,
            "grid_gap": null,
            "grid_row": null,
            "grid_template_areas": null,
            "grid_template_columns": null,
            "grid_template_rows": null,
            "height": null,
            "justify_content": null,
            "justify_items": null,
            "left": null,
            "margin": null,
            "max_height": null,
            "max_width": null,
            "min_height": null,
            "min_width": null,
            "object_fit": null,
            "object_position": null,
            "order": null,
            "overflow": null,
            "overflow_x": null,
            "overflow_y": null,
            "padding": null,
            "right": null,
            "top": null,
            "visibility": null,
            "width": null
          }
        },
        "80198fa471434fccb39785d5373cddf7": {
          "model_module": "@jupyter-widgets/base",
          "model_name": "LayoutModel",
          "model_module_version": "1.2.0",
          "state": {
            "_model_module": "@jupyter-widgets/base",
            "_model_module_version": "1.2.0",
            "_model_name": "LayoutModel",
            "_view_count": null,
            "_view_module": "@jupyter-widgets/base",
            "_view_module_version": "1.2.0",
            "_view_name": "LayoutView",
            "align_content": null,
            "align_items": null,
            "align_self": null,
            "border": null,
            "bottom": null,
            "display": null,
            "flex": null,
            "flex_flow": null,
            "grid_area": null,
            "grid_auto_columns": null,
            "grid_auto_flow": null,
            "grid_auto_rows": null,
            "grid_column": null,
            "grid_gap": null,
            "grid_row": null,
            "grid_template_areas": null,
            "grid_template_columns": null,
            "grid_template_rows": null,
            "height": null,
            "justify_content": null,
            "justify_items": null,
            "left": null,
            "margin": null,
            "max_height": null,
            "max_width": null,
            "min_height": null,
            "min_width": null,
            "object_fit": null,
            "object_position": null,
            "order": null,
            "overflow": null,
            "overflow_x": null,
            "overflow_y": null,
            "padding": null,
            "right": null,
            "top": null,
            "visibility": null,
            "width": null
          }
        },
        "8c58e46ff308443388eac471cf937630": {
          "model_module": "@jupyter-widgets/controls",
          "model_name": "SliderStyleModel",
          "model_module_version": "1.5.0",
          "state": {
            "_model_module": "@jupyter-widgets/controls",
            "_model_module_version": "1.5.0",
            "_model_name": "SliderStyleModel",
            "_view_count": null,
            "_view_module": "@jupyter-widgets/base",
            "_view_module_version": "1.2.0",
            "_view_name": "StyleView",
            "description_width": "",
            "handle_color": null
          }
        },
        "5c20a619c1aa44808401284501aa876a": {
          "model_module": "@jupyter-widgets/base",
          "model_name": "LayoutModel",
          "model_module_version": "1.2.0",
          "state": {
            "_model_module": "@jupyter-widgets/base",
            "_model_module_version": "1.2.0",
            "_model_name": "LayoutModel",
            "_view_count": null,
            "_view_module": "@jupyter-widgets/base",
            "_view_module_version": "1.2.0",
            "_view_name": "LayoutView",
            "align_content": null,
            "align_items": null,
            "align_self": null,
            "border": null,
            "bottom": null,
            "display": null,
            "flex": null,
            "flex_flow": null,
            "grid_area": null,
            "grid_auto_columns": null,
            "grid_auto_flow": null,
            "grid_auto_rows": null,
            "grid_column": null,
            "grid_gap": null,
            "grid_row": null,
            "grid_template_areas": null,
            "grid_template_columns": null,
            "grid_template_rows": null,
            "height": null,
            "justify_content": null,
            "justify_items": null,
            "left": null,
            "margin": null,
            "max_height": null,
            "max_width": null,
            "min_height": null,
            "min_width": null,
            "object_fit": null,
            "object_position": null,
            "order": null,
            "overflow": null,
            "overflow_x": null,
            "overflow_y": null,
            "padding": null,
            "right": null,
            "top": null,
            "visibility": null,
            "width": null
          }
        },
        "8cd3f40a6a0046abb40afa467a80e0f7": {
          "model_module": "@jupyter-widgets/controls",
          "model_name": "SliderStyleModel",
          "model_module_version": "1.5.0",
          "state": {
            "_model_module": "@jupyter-widgets/controls",
            "_model_module_version": "1.5.0",
            "_model_name": "SliderStyleModel",
            "_view_count": null,
            "_view_module": "@jupyter-widgets/base",
            "_view_module_version": "1.2.0",
            "_view_name": "StyleView",
            "description_width": "",
            "handle_color": null
          }
        },
        "07261e47f2f24cb89b2d743a9c4afcd8": {
          "model_module": "@jupyter-widgets/base",
          "model_name": "LayoutModel",
          "model_module_version": "1.2.0",
          "state": {
            "_model_module": "@jupyter-widgets/base",
            "_model_module_version": "1.2.0",
            "_model_name": "LayoutModel",
            "_view_count": null,
            "_view_module": "@jupyter-widgets/base",
            "_view_module_version": "1.2.0",
            "_view_name": "LayoutView",
            "align_content": null,
            "align_items": null,
            "align_self": null,
            "border": null,
            "bottom": null,
            "display": null,
            "flex": null,
            "flex_flow": null,
            "grid_area": null,
            "grid_auto_columns": null,
            "grid_auto_flow": null,
            "grid_auto_rows": null,
            "grid_column": null,
            "grid_gap": null,
            "grid_row": null,
            "grid_template_areas": null,
            "grid_template_columns": null,
            "grid_template_rows": null,
            "height": null,
            "justify_content": null,
            "justify_items": null,
            "left": null,
            "margin": null,
            "max_height": null,
            "max_width": null,
            "min_height": null,
            "min_width": null,
            "object_fit": null,
            "object_position": null,
            "order": null,
            "overflow": null,
            "overflow_x": null,
            "overflow_y": null,
            "padding": null,
            "right": null,
            "top": null,
            "visibility": null,
            "width": null
          }
        },
        "f3af20017ba34af9b785cbea22a7a80a": {
          "model_module": "@jupyter-widgets/controls",
          "model_name": "SliderStyleModel",
          "model_module_version": "1.5.0",
          "state": {
            "_model_module": "@jupyter-widgets/controls",
            "_model_module_version": "1.5.0",
            "_model_name": "SliderStyleModel",
            "_view_count": null,
            "_view_module": "@jupyter-widgets/base",
            "_view_module_version": "1.2.0",
            "_view_name": "StyleView",
            "description_width": "",
            "handle_color": null
          }
        },
        "f3d5c8b6c73a4760b8be521c7e4b9bd1": {
          "model_module": "@jupyter-widgets/base",
          "model_name": "LayoutModel",
          "model_module_version": "1.2.0",
          "state": {
            "_model_module": "@jupyter-widgets/base",
            "_model_module_version": "1.2.0",
            "_model_name": "LayoutModel",
            "_view_count": null,
            "_view_module": "@jupyter-widgets/base",
            "_view_module_version": "1.2.0",
            "_view_name": "LayoutView",
            "align_content": null,
            "align_items": null,
            "align_self": null,
            "border": null,
            "bottom": null,
            "display": null,
            "flex": null,
            "flex_flow": null,
            "grid_area": null,
            "grid_auto_columns": null,
            "grid_auto_flow": null,
            "grid_auto_rows": null,
            "grid_column": null,
            "grid_gap": null,
            "grid_row": null,
            "grid_template_areas": null,
            "grid_template_columns": null,
            "grid_template_rows": null,
            "height": null,
            "justify_content": null,
            "justify_items": null,
            "left": null,
            "margin": null,
            "max_height": null,
            "max_width": null,
            "min_height": null,
            "min_width": null,
            "object_fit": null,
            "object_position": null,
            "order": null,
            "overflow": null,
            "overflow_x": null,
            "overflow_y": null,
            "padding": null,
            "right": null,
            "top": null,
            "visibility": null,
            "width": null
          }
        }
      }
    }
  },
  "nbformat": 4,
  "nbformat_minor": 5
}